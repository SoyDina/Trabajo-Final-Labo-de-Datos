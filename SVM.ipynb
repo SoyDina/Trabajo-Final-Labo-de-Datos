{
 "cells": [
  {
   "cell_type": "code",
   "execution_count": 24,
   "id": "unusual-continuity",
   "metadata": {},
   "outputs": [],
   "source": [
    "import pandas as pd\n",
    "import numpy as np\n",
    "import matplotlib.pyplot as plt\n",
    "from os import listdir\n",
    "from os.path import isfile, join\n",
    "from PIL import Image\n",
    "from resizeimage import resizeimage\n",
    "import cv2\n",
    "import os\n",
    "from IPython.display import clear_output\n",
    "import matplotlib\n",
    "from sklearn.linear_model import LogisticRegression\n",
    "from sklearn.metrics import roc_curve\n",
    "from sklearn.metrics import roc_auc_score\n",
    "from sklearn.model_selection import train_test_split\n",
    "from sklearn.preprocessing import MinMaxScaler\n",
    "from sklearn.metrics import confusion_matrix\n",
    "from sklearn.svm import SVC\n",
    "from sklearn.model_selection import StratifiedKFold\n",
    "from sklearn.feature_selection import RFECV\n",
    "from time import time\n",
    "from sklearn.model_selection import GridSearchCV"
   ]
  },
  {
   "cell_type": "code",
   "execution_count": 25,
   "id": "alien-courage",
   "metadata": {},
   "outputs": [],
   "source": [
    "X_train = np.load(\"X_pca.npy\")\n",
    "X_test = np.load(\"X_test_pca.npy\")\n",
    "X_val = np.load(\"X_val_pca.npy\")\n",
    "y_train = np.load(\"y_train.npy\")\n",
    "y_test = np.load(\"y_test.npy\")\n",
    "y_val = np.load(\"y_val.npy\")"
   ]
  },
  {
   "cell_type": "code",
   "execution_count": 3,
   "id": "subjective-bidding",
   "metadata": {},
   "outputs": [],
   "source": [
    "svm = SVC(kernel=\"rbf\", C=0.001, max_iter=-1)"
   ]
  },
  {
   "cell_type": "code",
   "execution_count": 4,
   "id": "parental-angle",
   "metadata": {},
   "outputs": [
    {
     "name": "stdout",
     "output_type": "stream",
     "text": [
      "0.775\n"
     ]
    }
   ],
   "source": [
    "svm.fit(X_train, y_train)\n",
    "score = svm.score(X_test, y_test)\n",
    "print(score)"
   ]
  },
  {
   "cell_type": "code",
   "execution_count": 5,
   "id": "guided-importance",
   "metadata": {},
   "outputs": [
    {
     "name": "stdout",
     "output_type": "stream",
     "text": [
      "Fitting 10 folds for each of 10 candidates, totalling 100 fits\n"
     ]
    },
    {
     "data": {
      "text/plain": [
       "GridSearchCV(cv=10, estimator=SVC(), n_jobs=1,\n",
       "             param_grid={'C': (0.0001, 0.0021, 0.0041, 0.0061, 0.0081, 0.0101,\n",
       "                               0.0121, 0.0141, 0.0161, 0.0181)},\n",
       "             scoring='balanced_accuracy', verbose=1)"
      ]
     },
     "execution_count": 5,
     "metadata": {},
     "output_type": "execute_result"
    }
   ],
   "source": [
    "svm = SVC(kernel = \"rbf\", max_iter = 1000000)\n",
    "param = {\"C\":tuple(np.arange(0.01 - 0.002*5 + 0.0001, 0.01 + 0.002*5, 0.002))}\n",
    "svm.grid = GridSearchCV(svm, param, n_jobs=1, cv=10, verbose=1, scoring=\"balanced_accuracy\")\n",
    "svm.grid.fit(X_train, y_train)"
   ]
  },
  {
   "cell_type": "code",
   "execution_count": 6,
   "id": "accredited-samoa",
   "metadata": {},
   "outputs": [
    {
     "data": {
      "text/plain": [
       "{'C': 0.0181}"
      ]
     },
     "execution_count": 6,
     "metadata": {},
     "output_type": "execute_result"
    }
   ],
   "source": [
    "svm.grid.best_params_"
   ]
  },
  {
   "cell_type": "code",
   "execution_count": 26,
   "id": "secret-outdoors",
   "metadata": {},
   "outputs": [],
   "source": [
    "def unison_shuffled_copies(a, b):\n",
    "    assert len(a) == len(b)\n",
    "    p = np.random.permutation(len(a))\n",
    "    return a[p], b[p]"
   ]
  },
  {
   "cell_type": "code",
   "execution_count": 28,
   "id": "verbal-individual",
   "metadata": {},
   "outputs": [
    {
     "name": "stdout",
     "output_type": "stream",
     "text": [
      "0.795\n"
     ]
    }
   ],
   "source": [
    "X_train, y_train = unison_shuffled_copies(X_train, y_train)\n",
    "svm = SVC(kernel=\"rbf\", C=0.01)\n",
    "svm.fit(X_train, y_train)\n",
    "X_test, y_test = unison_shuffled_copies(X_test, y_test)\n",
    "score = svm.score(X_test, y_test)\n",
    "print(score)"
   ]
  },
  {
   "cell_type": "code",
   "execution_count": 17,
   "id": "agricultural-tension",
   "metadata": {},
   "outputs": [
    {
     "name": "stdout",
     "output_type": "stream",
     "text": [
      "0.78\n"
     ]
    }
   ],
   "source": [
    "print(score)"
   ]
  },
  {
   "cell_type": "code",
   "execution_count": 15,
   "id": "seven-wichita",
   "metadata": {},
   "outputs": [
    {
     "data": {
      "text/plain": [
       "array([0.   , 0.002, 0.004, 0.006, 0.008, 0.01 , 0.012, 0.014, 0.016,\n",
       "       0.018])"
      ]
     },
     "execution_count": 15,
     "metadata": {},
     "output_type": "execute_result"
    }
   ],
   "source": [
    "len(np.arange(0.01 - 0.002*5, 0.01 + 0.002*5, 0.002))\n",
    "np.arange(0.01 - 0.002*5, 0.01 + 0.002*5, 0.002)"
   ]
  },
  {
   "cell_type": "code",
   "execution_count": null,
   "id": "sixth-backup",
   "metadata": {},
   "outputs": [],
   "source": []
  }
 ],
 "metadata": {
  "kernelspec": {
   "display_name": "Python 3",
   "language": "python",
   "name": "python3"
  },
  "language_info": {
   "codemirror_mode": {
    "name": "ipython",
    "version": 3
   },
   "file_extension": ".py",
   "mimetype": "text/x-python",
   "name": "python",
   "nbconvert_exporter": "python",
   "pygments_lexer": "ipython3",
   "version": "3.8.5"
  }
 },
 "nbformat": 4,
 "nbformat_minor": 5
}
