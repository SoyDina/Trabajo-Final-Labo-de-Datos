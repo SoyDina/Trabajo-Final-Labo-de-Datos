{
 "cells": [
  {
   "cell_type": "code",
   "execution_count": 1,
   "id": "unusual-continuity",
   "metadata": {},
   "outputs": [],
   "source": [
    "import pandas as pd\n",
    "import numpy as np\n",
    "import matplotlib.pyplot as plt\n",
    "from os import listdir\n",
    "from os.path import isfile, join\n",
    "from PIL import Image\n",
    "from resizeimage import resizeimage\n",
    "import cv2\n",
    "import os\n",
    "from IPython.display import clear_output\n",
    "import matplotlib\n",
    "from sklearn.linear_model import LogisticRegression\n",
    "from sklearn.metrics import roc_curve\n",
    "from sklearn.metrics import roc_auc_score\n",
    "from sklearn.model_selection import train_test_split\n",
    "from sklearn.preprocessing import MinMaxScaler\n",
    "from sklearn.metrics import confusion_matrix\n",
    "from sklearn.metrics import accuracy_score, precision_score, recall_score, f1_score\n",
    "from sklearn.svm import SVC\n",
    "from sklearn.model_selection import StratifiedKFold\n",
    "from sklearn.feature_selection import RFECV\n",
    "from time import time\n",
    "from sklearn.model_selection import GridSearchCV"
   ]
  },
  {
   "cell_type": "markdown",
   "id": "thick-tuition",
   "metadata": {},
   "source": [
    "Importamos los datos que vamos a usar. Los X_train/test es una matriz con N=número de datos filas y P=224x224=número de pixeles por imagen columnas. Los y_train/test son vectores de largo N=número de datos con 0(no tiene neumonía), 1(tiene neumonía bacteriana) y 2(tiene neumonía viral)"
   ]
  },
  {
   "cell_type": "code",
   "execution_count": 17,
   "id": "alien-courage",
   "metadata": {},
   "outputs": [],
   "source": [
    "X_train = np.load(\"data_pca/X_pca_3clases.npy\")\n",
    "X_test = np.load(\"data_pca/X_pca_test_3clases.npy\")\n",
    "y_train = np.load(\"data_pca/y_train_rec_3clases.npy\")\n",
    "y_test = np.load(\"data_pca/y_test_3clases.npy\")\n",
    "#y_train_oh = np.load(\"data_pca/y_train_oh_3clases\")\n"
   ]
  },
  {
   "cell_type": "markdown",
   "id": "expensive-reply",
   "metadata": {},
   "source": [
    "Hacemos un y_train one-hot encodeado. Es decir, tomamos los y con 0 1 y 2 y los convertimos en una matriz de N por 3 con un 1 en la clase correspondiente. Primer cada columna equivale a las etiquetas 0 1 y 2 respectivamente"
   ]
  },
  {
   "cell_type": "code",
   "execution_count": 18,
   "id": "judicial-boards",
   "metadata": {},
   "outputs": [
    {
     "name": "stdout",
     "output_type": "stream",
     "text": [
      "(4031,)\n",
      "[[1 0 0]\n",
      " [1 0 0]\n",
      " [1 0 0]\n",
      " ...\n",
      " [0 0 1]\n",
      " [0 0 1]\n",
      " [0 0 1]]\n"
     ]
    }
   ],
   "source": [
    "print(y_train.shape)\n",
    "\n",
    "\n",
    "y_train_oh = np.zeros(shape=(y_train.shape[0], 3), dtype=int)\n",
    "\n",
    "for index, val in enumerate(y_train):\n",
    "    if val == 0:\n",
    "        y_train_oh[index, 0] += int(1)\n",
    "    elif val == 1:\n",
    "        y_train_oh[index, 1] += int(1)\n",
    "    elif val == 2:\n",
    "        y_train_oh[index, 2] += int(1)\n",
    "        \n",
    "\n",
    "print(y_train_oh)"
   ]
  },
  {
   "cell_type": "code",
   "execution_count": 19,
   "id": "revolutionary-canadian",
   "metadata": {
    "scrolled": true
   },
   "outputs": [
    {
     "name": "stdout",
     "output_type": "stream",
     "text": [
      "[0. 0. 0. 0. 0. 0. 0. 0. 0. 0. 0. 0. 0. 0. 0. 0. 0. 0. 0. 0. 0. 0. 0. 0.\n",
      " 0. 0. 0. 0. 0. 0. 0. 0. 0. 0. 0. 0. 0. 0. 0. 0. 0. 0. 0. 0. 0. 0. 0. 0.\n",
      " 0. 0. 0. 0. 0. 0. 0. 0. 0. 0. 0. 0. 0. 0. 0. 0. 0. 0. 0. 0. 0. 0. 0. 0.\n",
      " 0. 0. 0. 0. 0. 0. 0. 0. 0. 0. 0. 0. 0. 0. 0. 0. 0. 0. 0. 0. 0. 0. 0. 0.\n",
      " 0. 0. 0. 0. 0. 0. 0. 0. 0. 0. 0. 0. 0. 0. 0. 0. 0. 0. 0. 0. 0. 0. 0. 0.\n",
      " 0. 0. 0. 0. 0. 0. 0. 0. 0. 0. 0. 0. 0. 0. 0. 0. 0. 0. 0. 0. 0. 0. 0. 0.\n",
      " 0. 0. 0. 0. 0. 0. 0. 0. 0. 0. 0. 0. 0. 0. 0. 0. 0. 0. 0. 0. 0. 0. 0. 0.\n",
      " 0. 0. 0. 0. 0. 0. 0. 0. 0. 0. 0. 0. 0. 0. 0. 0. 0. 0. 0. 0. 0. 0. 0. 0.\n",
      " 0. 0. 0. 0. 0. 0. 0. 0. 0. 0. 0. 0. 0. 0. 0. 0. 0. 0. 0. 0. 0. 0. 0. 0.\n",
      " 0. 0. 0. 0. 0. 0. 0. 0. 0. 0. 0. 0. 0. 0. 0. 0. 0. 0. 1. 1. 1. 1. 1. 1.\n",
      " 1. 1. 1. 1. 1. 1. 1. 1. 1. 1. 1. 1. 1. 1. 1. 1. 1. 1. 1. 1. 1. 1. 1. 1.\n",
      " 1. 1. 1. 1. 1. 1. 1. 1. 1. 1. 1. 1. 1. 1. 1. 1. 1. 1. 1. 1. 1. 1. 1. 1.\n",
      " 1. 1. 1. 1. 1. 1. 1. 1. 1. 1. 1. 1. 1. 1. 1. 1. 1. 1. 1. 1. 1. 1. 1. 1.\n",
      " 1. 1. 1. 1. 1. 1. 1. 1. 1. 1. 1. 1. 1. 1. 1. 1. 1. 1. 1. 1. 1. 1. 1. 1.\n",
      " 1. 1. 1. 1. 1. 1. 1. 1. 1. 1. 1. 1. 1. 1. 1. 1. 1. 1. 1. 1. 1. 1. 1. 1.\n",
      " 1. 1. 1. 1. 1. 1. 1. 1. 1. 1. 1. 1. 1. 1. 1. 1. 1. 1. 1. 1. 1. 1. 1. 1.\n",
      " 1. 1. 1. 1. 1. 1. 1. 1. 1. 1. 1. 1. 1. 1. 1. 1. 1. 1. 1. 1. 1. 1. 1. 1.\n",
      " 1. 1. 1. 1. 1. 1. 1. 1. 1. 1. 1. 1. 1. 1. 1. 1. 1. 1. 1. 1. 1. 1. 1. 1.\n",
      " 1. 1. 1. 1. 1. 1. 1. 1. 1. 1. 1. 1. 1. 1. 1. 1. 1. 1. 1. 1. 1. 1. 1. 1.\n",
      " 1. 1. 1. 1. 1. 1. 1. 1. 1. 1. 1. 1. 1. 1. 1. 1. 1. 1. 1. 1. 2. 2. 2. 2.\n",
      " 2. 2. 2. 2. 2. 2. 2. 2. 2. 2. 2. 2. 2. 2. 2. 2. 2. 2. 2. 2. 2. 2. 2. 2.\n",
      " 2. 2. 2. 2. 2. 2. 2. 2. 2. 2. 2. 2. 2. 2. 2. 2. 2. 2. 2. 2. 2. 2. 2. 2.\n",
      " 2. 2. 2. 2. 2. 2. 2. 2. 2. 2. 2. 2. 2. 2. 2. 2. 2. 2. 2. 2. 2. 2. 2. 2.\n",
      " 2. 2. 2. 2. 2. 2. 2. 2. 2. 2. 2. 2. 2. 2. 2. 2. 2. 2. 2. 2. 2. 2. 2. 2.\n",
      " 2. 2. 2. 2. 2. 2. 2. 2. 2. 2. 2. 2. 2. 2. 2. 2. 2. 2. 2. 2. 2. 2. 2. 2.\n",
      " 2. 2. 2. 2. 2. 2. 2. 2. 2. 2. 2. 2. 2. 2. 2. 2. 2. 2. 2. 2. 2. 2. 2. 2.]\n",
      "[0 0 0 ... 2 2 2]\n"
     ]
    }
   ],
   "source": [
    "print(y_test)\n",
    "y_train_int = y_train.astype(int)\n",
    "print(y_train_int)"
   ]
  },
  {
   "cell_type": "markdown",
   "id": "silent-truth",
   "metadata": {},
   "source": [
    "Separamos los datos de X_train en distintas matrices que contienen los datos sólo de una clase: una para normales, otra para bacterianos y otra para virales. Además hacemos que cada una de estas matrices tenga aproximadamente la misma cantidad de datos para cada clase."
   ]
  },
  {
   "cell_type": "code",
   "execution_count": 20,
   "id": "alternative-operation",
   "metadata": {},
   "outputs": [
    {
     "name": "stdout",
     "output_type": "stream",
     "text": [
      "False\n"
     ]
    }
   ],
   "source": [
    "X_nor = X_train[:1341,:]\n",
    "X_bac = X_train[1341:-1345,:]\n",
    "X_vir = X_train[-1345:,:]\n",
    "\n",
    "\n",
    "y_nor = y_train_oh[:1341, 0]\n",
    "y_bac = y_train_oh[1341:-1345, 1]\n",
    "y_vir = y_train_oh[-1345:, 2]\n",
    "\n",
    "X_nor_bac = np.concatenate([X_nor, X_bac])\n",
    "y_nor_bac = np.concatenate([y_nor, y_bac])\n",
    "print(y_nor_bac.any() == 0)"
   ]
  },
  {
   "cell_type": "markdown",
   "id": "reduced-gravity",
   "metadata": {},
   "source": [
    "Hacemos un X_train binario con su correspondiente y_train binario, es decir, eliminamos la diferencia entre clases bacteriana y viral y las juntamos en una única clase: positivos."
   ]
  },
  {
   "cell_type": "code",
   "execution_count": null,
   "id": "decent-anthropology",
   "metadata": {},
   "outputs": [],
   "source": [
    "X_pos = np.concatenate([X_train[1341:1341+675], X_train[-675]])\n",
    "\n",
    "X_train_binario = np.concatenate([X_nor, X_pos])\n",
    "y_train_binario = np.concatenate([np.zeros(X_nor.shape[0]), np.ones(X_pos.shape[0])])"
   ]
  },
  {
   "cell_type": "markdown",
   "id": "higher-surfing",
   "metadata": {},
   "source": [
    "Definimos la variable del fit"
   ]
  },
  {
   "cell_type": "code",
   "execution_count": 31,
   "id": "subjective-bidding",
   "metadata": {},
   "outputs": [],
   "source": [
    "svm = SVC(kernel=\"rbf\", C=1.75, max_iter=-1)"
   ]
  },
  {
   "cell_type": "markdown",
   "id": "saved-astronomy",
   "metadata": {},
   "source": [
    "Probamos el fit con un parámetro cualquiera"
   ]
  },
  {
   "cell_type": "code",
   "execution_count": 32,
   "id": "parental-angle",
   "metadata": {},
   "outputs": [
    {
     "name": "stdout",
     "output_type": "stream",
     "text": [
      "0.7243589743589743\n"
     ]
    }
   ],
   "source": [
    "svm.fit(X_train, y_train)\n",
    "score = svm.score(X_test, y_test)\n",
    "print(score)"
   ]
  },
  {
   "cell_type": "markdown",
   "id": "advanced-officer",
   "metadata": {},
   "source": [
    "Hacemos un barrido para el parámetro C y vemos cual es el óptimo haciendo k-fold"
   ]
  },
  {
   "cell_type": "code",
   "execution_count": 29,
   "id": "guided-importance",
   "metadata": {},
   "outputs": [
    {
     "name": "stdout",
     "output_type": "stream",
     "text": [
      "Fitting 10 folds for each of 8 candidates, totalling 80 fits\n"
     ]
    },
    {
     "data": {
      "text/plain": [
       "GridSearchCV(cv=10, estimator=SVC(max_iter=100000), n_jobs=1,\n",
       "             param_grid={'C': (1.6, 1.6500000000000001, 1.7000000000000002,\n",
       "                               1.7500000000000002, 1.8000000000000003,\n",
       "                               1.8500000000000003, 1.9000000000000004,\n",
       "                               1.9500000000000004)},\n",
       "             scoring='balanced_accuracy', verbose=1)"
      ]
     },
     "execution_count": 29,
     "metadata": {},
     "output_type": "execute_result"
    }
   ],
   "source": [
    "svm = SVC(kernel = \"rbf\", max_iter = 100000)\n",
    "param = {\"C\":tuple(np.arange(1.6 , 2, 0.05))}\n",
    "svm.grid = GridSearchCV(svm, param, n_jobs=1, cv=10, verbose=1, scoring=\"balanced_accuracy\")\n",
    "svm.grid.fit(X_train, y_train)"
   ]
  },
  {
   "cell_type": "markdown",
   "id": "short-forwarding",
   "metadata": {},
   "source": [
    "Vemos que el parámetro óptimo es 1.75"
   ]
  },
  {
   "cell_type": "code",
   "execution_count": 30,
   "id": "accredited-samoa",
   "metadata": {},
   "outputs": [
    {
     "data": {
      "text/plain": [
       "{'C': 1.7500000000000002}"
      ]
     },
     "execution_count": 30,
     "metadata": {},
     "output_type": "execute_result"
    }
   ],
   "source": [
    "svm.grid.best_params_"
   ]
  },
  {
   "cell_type": "markdown",
   "id": "swedish-offering",
   "metadata": {},
   "source": [
    "Definimos una función que shufflea dos arrays en paralelo"
   ]
  },
  {
   "cell_type": "code",
   "execution_count": 2,
   "id": "secret-outdoors",
   "metadata": {},
   "outputs": [],
   "source": [
    "def unison_shuffled_copies(a, b):\n",
    "    assert len(a) == len(b)\n",
    "    p = np.random.permutation(len(a))\n",
    "    return a[p], b[p]"
   ]
  },
  {
   "cell_type": "markdown",
   "id": "daily-canal",
   "metadata": {},
   "source": [
    "Entrenamos el modelo con el parámetro encontrado y lo testeamos en el dataset de testeo para el caso con las clases bacterianas y virales distinguidas"
   ]
  },
  {
   "cell_type": "code",
   "execution_count": 34,
   "id": "verbal-individual",
   "metadata": {},
   "outputs": [
    {
     "name": "stdout",
     "output_type": "stream",
     "text": [
      "0.7243589743589743\n"
     ]
    }
   ],
   "source": [
    "X_train, y_train = unison_shuffled_copies(X_train, y_train)\n",
    "svm = SVC(kernel=\"rbf\", C=1.75)\n",
    "svm.fit(X_train, y_train)\n",
    "X_test, y_test = unison_shuffled_copies(X_test, y_test)\n",
    "score = svm.score(X_test, y_test)\n",
    "print(score)"
   ]
  },
  {
   "cell_type": "code",
   "execution_count": 38,
   "id": "hired-beach",
   "metadata": {},
   "outputs": [],
   "source": [
    "y_test_predict = svm.predict(X_test)"
   ]
  },
  {
   "cell_type": "markdown",
   "id": "induced-brighton",
   "metadata": {},
   "source": [
    "Vemos la confusion matrix"
   ]
  },
  {
   "cell_type": "code",
   "execution_count": 47,
   "id": "understood-outside",
   "metadata": {},
   "outputs": [
    {
     "name": "stdout",
     "output_type": "stream",
     "text": [
      "Confusion Matrix\n",
      "\n",
      "[[110  16 108]\n",
      " [  1 220  21]\n",
      " [  5  21 122]]\n"
     ]
    }
   ],
   "source": [
    "cm = confusion_matrix(y_test, y_test_predict)\n",
    "print('Confusion Matrix\\n')\n",
    "print(cm)\n",
    "y_pred = y_test_predict"
   ]
  },
  {
   "cell_type": "markdown",
   "id": "american-partner",
   "metadata": {},
   "source": [
    "Vemos mas parámetros de que tan bueno es el modelo"
   ]
  },
  {
   "cell_type": "code",
   "execution_count": 48,
   "id": "bright-county",
   "metadata": {},
   "outputs": [
    {
     "name": "stdout",
     "output_type": "stream",
     "text": [
      "\n",
      "Accuracy: 0.72\n",
      "\n",
      "Micro Precision: 0.72\n",
      "Micro Recall: 0.72\n",
      "Micro F1-score: 0.72\n",
      "\n",
      "Macro Precision: 0.76\n",
      "Macro Recall: 0.73\n",
      "Macro F1-score: 0.71\n",
      "\n",
      "Weighted Precision: 0.80\n",
      "Weighted Recall: 0.72\n",
      "Weighted F1-score: 0.72\n",
      "\n",
      "Classification Report\n",
      "\n",
      "              precision    recall  f1-score   support\n",
      "\n",
      "     Class 1       0.95      0.47      0.63       234\n",
      "     Class 2       0.86      0.91      0.88       242\n",
      "     Class 3       0.49      0.82      0.61       148\n",
      "\n",
      "    accuracy                           0.72       624\n",
      "   macro avg       0.76      0.73      0.71       624\n",
      "weighted avg       0.80      0.72      0.72       624\n",
      "\n"
     ]
    }
   ],
   "source": [
    "print('\\nAccuracy: {:.2f}\\n'.format(accuracy_score(y_test, y_pred)))\n",
    "\n",
    "print('Micro Precision: {:.2f}'.format(precision_score(y_test, y_pred, average='micro')))\n",
    "print('Micro Recall: {:.2f}'.format(recall_score(y_test, y_pred, average='micro')))\n",
    "print('Micro F1-score: {:.2f}\\n'.format(f1_score(y_test, y_pred, average='micro')))\n",
    "\n",
    "print('Macro Precision: {:.2f}'.format(precision_score(y_test, y_pred, average='macro')))\n",
    "print('Macro Recall: {:.2f}'.format(recall_score(y_test, y_pred, average='macro')))\n",
    "print('Macro F1-score: {:.2f}\\n'.format(f1_score(y_test, y_pred, average='macro')))\n",
    "\n",
    "print('Weighted Precision: {:.2f}'.format(precision_score(y_test, y_pred, average='weighted')))\n",
    "print('Weighted Recall: {:.2f}'.format(recall_score(y_test, y_pred, average='weighted')))\n",
    "print('Weighted F1-score: {:.2f}'.format(f1_score(y_test, y_pred, average='weighted')))\n",
    "from sklearn.metrics import classification_report\n",
    "print('\\nClassification Report\\n')\n",
    "print(classification_report(y_test, y_pred, target_names=['Class 1', 'Class 2', 'Class 3']))"
   ]
  },
  {
   "cell_type": "markdown",
   "id": "imposed-munich",
   "metadata": {},
   "source": [
    "# Hacemos SVM sin hacer PCA"
   ]
  },
  {
   "cell_type": "markdown",
   "id": "municipal-scratch",
   "metadata": {},
   "source": [
    "Importamos los datos"
   ]
  },
  {
   "cell_type": "code",
   "execution_count": 3,
   "id": "miniature-contamination",
   "metadata": {},
   "outputs": [
    {
     "name": "stdout",
     "output_type": "stream",
     "text": [
      "(2530, 50176) (1341, 50176) (1345, 50176)\n"
     ]
    }
   ],
   "source": [
    "X_bac = np.load(\"data_raw/X_bac.npy\")\n",
    "X_vir = np.load(\"data_raw/X_vir.npy\")\n",
    "X_nor = np.load(\"data_raw/X_nor.npy\")\n",
    "\n",
    "print(X_bac.shape, X_nor.shape, X_vir.shape)"
   ]
  },
  {
   "cell_type": "markdown",
   "id": "finished-privacy",
   "metadata": {},
   "source": [
    "Armo el dataset de train y de test"
   ]
  },
  {
   "cell_type": "code",
   "execution_count": 28,
   "id": "lovely-florida",
   "metadata": {},
   "outputs": [
    {
     "name": "stdout",
     "output_type": "stream",
     "text": [
      "Shape trains: bac, vir, nor \n",
      " (1145, 50176) (1145, 50176) (1141, 50176)\n",
      "Shape test: bac, vir, nor \n",
      " (200, 50176) (200, 50176) (200, 50176)\n",
      "Shape train: (3431, 50176) (3431,)\n",
      "Shape test: (600, 50176) (600,)\n"
     ]
    }
   ],
   "source": [
    "X_bac_test = X_bac[-200:,:]\n",
    "X_vir_test = X_vir[-200:,:]\n",
    "X_nor_test = X_nor[-200:,:]\n",
    "\n",
    "X_bac_train = X_bac[:1345-200,:]\n",
    "X_vir_train = X_vir[:-200,:]\n",
    "X_nor_train = X_nor[:-200,:]\n",
    "\n",
    "print(\"Shape trains: bac, vir, nor \\n\",X_bac_train.shape, X_vir_train.shape, X_nor_train.shape)\n",
    "print(\"Shape test: bac, vir, nor \\n\",X_bac_test.shape, X_vir_test.shape, X_nor_test.shape)\n",
    "\n",
    "X_test = np.concatenate([X_nor_test, X_bac_test, X_vir_test])\n",
    "X_train = np.concatenate([X_nor_train, X_bac_train, X_vir_train])\n",
    "\n",
    "#genero los vectores y_train y y_test\n",
    "\n",
    "y_nor_test = np.zeros(200)\n",
    "y_bac_test = np.ones(200)\n",
    "y_vir_test = np.ones(200)*2\n",
    "\n",
    "y_nor_train = np.zeros(X_nor_train.shape[0])\n",
    "y_bac_train = np.ones(X_bac_train.shape[0])\n",
    "y_vir_train = np.ones(X_vir_train.shape[0])*2\n",
    "\n",
    "y_test = np.concatenate([y_nor_test, y_bac_test, y_vir_test])\n",
    "y_train = np.concatenate([y_nor_train, y_bac_train, y_vir_train])\n",
    "\n",
    "#shuffleo los datos\n",
    "\n",
    "X_train, y_train = unison_shuffled_copies(X_train, y_train)\n",
    "X_test, y_test = unison_shuffled_copies(X_test, y_test)\n",
    "\n",
    "print(\"Shape train:\", X_train.shape, y_train.shape)\n",
    "print(\"Shape test:\", X_test.shape, y_test.shape)"
   ]
  },
  {
   "cell_type": "markdown",
   "id": "sweet-scroll",
   "metadata": {},
   "source": [
    "Recorto las imagenes de X_train de 224x224 a lado_imgxlado_img"
   ]
  },
  {
   "cell_type": "code",
   "execution_count": 38,
   "id": "acceptable-bleeding",
   "metadata": {},
   "outputs": [],
   "source": [
    "lado_img = 80\n",
    "\n",
    "X_train_recortado = np.zeros(shape=(X_train.shape[0], lado_img**2))\n",
    "\n",
    "for index, imagen in enumerate(X_train):\n",
    "    imagen = cv2.resize(imagen.reshape(224,224), (lado_img, lado_img)).reshape(-1)\n",
    "    X_train_recortado[index, :] += imagen"
   ]
  },
  {
   "cell_type": "markdown",
   "id": "federal-adaptation",
   "metadata": {},
   "source": [
    "Visualizamos el resultado"
   ]
  },
  {
   "cell_type": "code",
   "execution_count": 39,
   "id": "economic-sauce",
   "metadata": {},
   "outputs": [
    {
     "data": {
      "image/png": "[encoded data removed]",
      "text/plain": [
       "<Figure size 432x288 with 1 Axes>"
      ]
     },
     "metadata": {
      "needs_background": "light"
     },
     "output_type": "display_data"
    }
   ],
   "source": [
    "plt.imshow(X_train_recortado[6,:].reshape(lado_img, lado_img), cmap=\"Greys_r\")\n",
    "plt.show()"
   ]
  },
  {
   "cell_type": "markdown",
   "id": "specified-sherman",
   "metadata": {},
   "source": [
    "Hacemos lo mismo para X_test"
   ]
  },
  {
   "cell_type": "code",
   "execution_count": 40,
   "id": "removable-glory",
   "metadata": {},
   "outputs": [],
   "source": [
    "\n",
    "X_test_recortado = np.zeros(shape=(X_test.shape[0], lado_img**2))\n",
    "\n",
    "for index, imagen in enumerate(X_test):\n",
    "    imagen = cv2.resize(imagen.reshape(224,224), (lado_img, lado_img)).reshape(-1)\n",
    "    X_test_recortado[index, :] += imagen"
   ]
  },
  {
   "cell_type": "markdown",
   "id": "dynamic-immune",
   "metadata": {},
   "source": [
    "Idem"
   ]
  },
  {
   "cell_type": "code",
   "execution_count": 41,
   "id": "pleased-earthquake",
   "metadata": {},
   "outputs": [
    {
     "data": {
      "image/png": "[encoded data removed]",
      "text/plain": [
       "<Figure size 432x288 with 1 Axes>"
      ]
     },
     "metadata": {
      "needs_background": "light"
     },
     "output_type": "display_data"
    }
   ],
   "source": [
    "plt.imshow(X_test_recortado[6,:].reshape(lado_img, lado_img), cmap=\"Greys_r\")\n",
    "plt.show()"
   ]
  },
  {
   "cell_type": "markdown",
   "id": "signal-italy",
   "metadata": {},
   "source": [
    "Cuento la cantidad de elementos que hay para cada clase en X_train_recortado"
   ]
  },
  {
   "cell_type": "code",
   "execution_count": 42,
   "id": "waiting-tract",
   "metadata": {},
   "outputs": [
    {
     "name": "stdout",
     "output_type": "stream",
     "text": [
      "Sin neumonía 1141 \n",
      "Bacteriana 1145 \n",
      "Viral 1145\n"
     ]
    }
   ],
   "source": [
    "print(\"Sin neumonía\",X_train_recortado[y_train == 0].shape[0],\n",
    "      \"\\nBacteriana\", X_train_recortado[y_train == 1].shape[0],\n",
    "      \"\\nViral\",X_train_recortado[y_train == 2].shape[0])"
   ]
  },
  {
   "cell_type": "markdown",
   "id": "responsible-white",
   "metadata": {},
   "source": [
    "Ahora hago SVM"
   ]
  },
  {
   "cell_type": "code",
   "execution_count": 43,
   "id": "disciplinary-cameroon",
   "metadata": {},
   "outputs": [
    {
     "name": "stdout",
     "output_type": "stream",
     "text": [
      "0.7566666666666667\n"
     ]
    }
   ],
   "source": [
    "#X_train_rec_shuf, y_train_shuf = unison_shuffled_copies(X_train_recortado, y_train)\n",
    "svm = SVC(kernel=\"rbf\", C=0.1)\n",
    "svm.fit(X_train_recortado, y_train)\n",
    "#X_test_rec, y_test = unison_shuffled_copies(X_test_recortado, y_test)\n",
    "score = svm.score(X_test_recortado, y_test)\n",
    "print(score)"
   ]
  },
  {
   "cell_type": "markdown",
   "id": "sapphire-sending",
   "metadata": {},
   "source": [
    "Vemos parámetros de ajuste"
   ]
  },
  {
   "cell_type": "code",
   "execution_count": 44,
   "id": "unauthorized-search",
   "metadata": {},
   "outputs": [],
   "source": [
    "y_test_predict = svm.predict(X_test_recortado)"
   ]
  },
  {
   "cell_type": "code",
   "execution_count": 45,
   "id": "revolutionary-works",
   "metadata": {},
   "outputs": [
    {
     "name": "stdout",
     "output_type": "stream",
     "text": [
      "Confusion Matrix\n",
      "\n",
      "[[192   1   7]\n",
      " [ 10 151  39]\n",
      " [ 16  73 111]]\n"
     ]
    }
   ],
   "source": [
    "cm = confusion_matrix(y_test, y_test_predict)\n",
    "print('Confusion Matrix\\n')\n",
    "print(cm)\n",
    "y_pred = y_test_predict"
   ]
  },
  {
   "cell_type": "code",
   "execution_count": 46,
   "id": "romantic-fourth",
   "metadata": {},
   "outputs": [
    {
     "name": "stdout",
     "output_type": "stream",
     "text": [
      "\n",
      "Accuracy: 0.76\n",
      "\n",
      "Micro Precision: 0.76\n",
      "Micro Recall: 0.76\n",
      "Micro F1-score: 0.76\n",
      "\n",
      "Macro Precision: 0.75\n",
      "Macro Recall: 0.76\n",
      "Macro F1-score: 0.75\n",
      "\n",
      "Weighted Precision: 0.75\n",
      "Weighted Recall: 0.76\n",
      "Weighted F1-score: 0.75\n",
      "\n",
      "Classification Report\n",
      "\n",
      "              precision    recall  f1-score   support\n",
      "\n",
      "     Class 1       0.88      0.96      0.92       200\n",
      "     Class 2       0.67      0.76      0.71       200\n",
      "     Class 3       0.71      0.56      0.62       200\n",
      "\n",
      "    accuracy                           0.76       600\n",
      "   macro avg       0.75      0.76      0.75       600\n",
      "weighted avg       0.75      0.76      0.75       600\n",
      "\n"
     ]
    }
   ],
   "source": [
    "print('\\nAccuracy: {:.2f}\\n'.format(accuracy_score(y_test, y_pred)))\n",
    "\n",
    "print('Micro Precision: {:.2f}'.format(precision_score(y_test, y_pred, average='micro')))\n",
    "print('Micro Recall: {:.2f}'.format(recall_score(y_test, y_pred, average='micro')))\n",
    "print('Micro F1-score: {:.2f}\\n'.format(f1_score(y_test, y_pred, average='micro')))\n",
    "\n",
    "print('Macro Precision: {:.2f}'.format(precision_score(y_test, y_pred, average='macro')))\n",
    "print('Macro Recall: {:.2f}'.format(recall_score(y_test, y_pred, average='macro')))\n",
    "print('Macro F1-score: {:.2f}\\n'.format(f1_score(y_test, y_pred, average='macro')))\n",
    "\n",
    "print('Weighted Precision: {:.2f}'.format(precision_score(y_test, y_pred, average='weighted')))\n",
    "print('Weighted Recall: {:.2f}'.format(recall_score(y_test, y_pred, average='weighted')))\n",
    "print('Weighted F1-score: {:.2f}'.format(f1_score(y_test, y_pred, average='weighted')))\n",
    "from sklearn.metrics import classification_report\n",
    "print('\\nClassification Report\\n')\n",
    "print(classification_report(y_test, y_pred, target_names=['Class 1', 'Class 2', 'Class 3']))"
   ]
  },
  {
   "cell_type": "code",
   "execution_count": null,
   "id": "trained-branch",
   "metadata": {},
   "outputs": [],
   "source": []
  },
  {
   "cell_type": "code",
   "execution_count": null,
   "id": "plain-daughter",
   "metadata": {},
   "outputs": [],
   "source": []
  }
 ],
 "metadata": {
  "kernelspec": {
   "display_name": "Python 3",
   "language": "python",
   "name": "python3"
  },
  "language_info": {
   "codemirror_mode": {
    "name": "ipython",
    "version": 3
   },
   "file_extension": ".py",
   "mimetype": "text/x-python",
   "name": "python",
   "nbconvert_exporter": "python",
   "pygments_lexer": "ipython3",
   "version": "3.8.5"
  }
 },
 "nbformat": 4,
 "nbformat_minor": 5
}
