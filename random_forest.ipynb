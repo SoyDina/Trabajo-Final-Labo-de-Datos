{
 "cells": [
  {
   "cell_type": "code",
   "execution_count": 2,
   "id": "packed-vertical",
   "metadata": {},
   "outputs": [],
   "source": [
    "import pandas as pd\n",
    "import numpy as np\n",
    "import matplotlib.pyplot as plt\n",
    "from os import listdir\n",
    "from os.path import isfile, join\n",
    "from PIL import Image\n",
    "from resizeimage import resizeimage\n",
    "import cv2\n",
    "import os\n",
    "from IPython.display import clear_output\n",
    "import matplotlib\n",
    "from sklearn.linear_model import LogisticRegression\n",
    "from sklearn.metrics import roc_curve\n",
    "from sklearn.metrics import roc_auc_score\n",
    "from sklearn.model_selection import train_test_split\n",
    "from sklearn.preprocessing import MinMaxScaler\n",
    "from sklearn.metrics import confusion_matrix\n",
    "from sklearn.metrics import accuracy_score, precision_score, recall_score, f1_score\n",
    "from sklearn.svm import SVC\n",
    "from sklearn.model_selection import StratifiedKFold\n",
    "from sklearn.feature_selection import RFECV\n",
    "from time import time\n",
    "from sklearn.model_selection import GridSearchCV\n",
    "from sklearn.metrics import accuracy_score\n",
    "from sklearn.neighbors import KNeighborsClassifier\n",
    "from sklearn.model_selection import train_test_split\n",
    "from random import shuffle\n",
    "from sklearn.tree import DecisionTreeClassifier\n",
    "from sklearn.ensemble import RandomForestClassifier"
   ]
  },
  {
   "cell_type": "code",
   "execution_count": 3,
   "id": "twenty-coach",
   "metadata": {},
   "outputs": [],
   "source": [
    "X_train_pca = np.load(\"data_pca/X_pca_3clases.npy\")\n",
    "X_test_pca = np.load(\"data_pca/X_pca_test_3clases.npy\")\n",
    "y_train_pca = np.load(\"data_pca/y_train_rec_3clases.npy\")\n",
    "y_test_pca = np.load(\"data_pca/y_test_3clases.npy\")\n",
    "#y_train_oh = np.load(\"data_pca/y_train_oh_3clases\")\n",
    "\n"
   ]
  },
  {
   "cell_type": "code",
   "execution_count": 18,
   "id": "prime-miniature",
   "metadata": {},
   "outputs": [],
   "source": [
    "clf = RandomForestClassifier(n_estimators=1000, max_features=\"sqrt\")\n",
    "clf.fit(X_train_pca, y_train_pca)\n",
    "score = clf.score(X_test_pca, y_test_pca)\n",
    "y_pred = clf.predict(X_test_pca)\n",
    "y_test = y_test_pca"
   ]
  },
  {
   "cell_type": "code",
   "execution_count": 19,
   "id": "capital-soldier",
   "metadata": {},
   "outputs": [
    {
     "name": "stdout",
     "output_type": "stream",
     "text": [
      "\n",
      "Accuracy: 0.71\n",
      "\n",
      "Micro Precision: 0.71\n",
      "Micro Recall: 0.71\n",
      "Micro F1-score: 0.71\n",
      "\n",
      "Macro Precision: 0.74\n",
      "Macro Recall: 0.72\n",
      "Macro F1-score: 0.70\n",
      "\n",
      "Weighted Precision: 0.77\n",
      "Weighted Recall: 0.71\n",
      "Weighted F1-score: 0.72\n",
      "\n",
      "Classification Report\n",
      "\n",
      "              precision    recall  f1-score   support\n",
      "\n",
      "      Normal       0.91      0.52      0.66       234\n",
      "    Bacteria       0.82      0.88      0.84       242\n",
      "       Virus       0.49      0.76      0.59       148\n",
      "\n",
      "    accuracy                           0.71       624\n",
      "   macro avg       0.74      0.72      0.70       624\n",
      "weighted avg       0.77      0.71      0.72       624\n",
      "\n"
     ]
    }
   ],
   "source": [
    "print('\\nAccuracy: {:.2f}\\n'.format(accuracy_score(y_test_pca, y_pred)))\n",
    "\n",
    "print('Micro Precision: {:.2f}'.format(precision_score(y_test, y_pred, average='micro')))\n",
    "print('Micro Recall: {:.2f}'.format(recall_score(y_test, y_pred, average='micro')))\n",
    "print('Micro F1-score: {:.2f}\\n'.format(f1_score(y_test, y_pred, average='micro')))\n",
    "\n",
    "print('Macro Precision: {:.2f}'.format(precision_score(y_test, y_pred, average='macro')))\n",
    "print('Macro Recall: {:.2f}'.format(recall_score(y_test, y_pred, average='macro')))\n",
    "print('Macro F1-score: {:.2f}\\n'.format(f1_score(y_test, y_pred, average='macro')))\n",
    "\n",
    "print('Weighted Precision: {:.2f}'.format(precision_score(y_test, y_pred, average='weighted')))\n",
    "print('Weighted Recall: {:.2f}'.format(recall_score(y_test, y_pred, average='weighted')))\n",
    "print('Weighted F1-score: {:.2f}'.format(f1_score(y_test, y_pred, average='weighted')))\n",
    "from sklearn.metrics import classification_report\n",
    "print('\\nClassification Report\\n')\n",
    "print(classification_report(y_test, y_pred, target_names=['Normal', 'Bacteria', 'Virus']))"
   ]
  },
  {
   "cell_type": "code",
   "execution_count": null,
   "id": "domestic-column",
   "metadata": {},
   "outputs": [],
   "source": []
  }
 ],
 "metadata": {
  "kernelspec": {
   "display_name": "Python 3",
   "language": "python",
   "name": "python3"
  },
  "language_info": {
   "codemirror_mode": {
    "name": "ipython",
    "version": 3
   },
   "file_extension": ".py",
   "mimetype": "text/x-python",
   "name": "python",
   "nbconvert_exporter": "python",
   "pygments_lexer": "ipython3",
   "version": "3.8.5"
  }
 },
 "nbformat": 4,
 "nbformat_minor": 5
}
